{
  "nbformat": 4,
  "nbformat_minor": 0,
  "metadata": {
    "colab": {
      "name": "number recognition using cnn.ipynb",
      "provenance": []
    },
    "kernelspec": {
      "name": "python3",
      "display_name": "Python 3"
    },
    "language_info": {
      "name": "python"
    }
  },
  "cells": [
    {
      "cell_type": "code",
      "execution_count": 1,
      "metadata": {
        "colab": {
          "base_uri": "https://localhost:8080/"
        },
        "id": "ZvmfMymnh-XP",
        "outputId": "088602ac-4fcd-4eaa-a08e-7165b2ab4b13"
      },
      "outputs": [
        {
          "output_type": "stream",
          "name": "stdout",
          "text": [
            "Mounted at /content/drive\n",
            " admin\n",
            " assets\n",
            " CalcTutor-master.zip\n",
            " cat.jpeg\n",
            " cats.jpeg\n",
            " Classroom\n",
            "'Colab Notebooks'\n",
            "'construction WBS.vdx'\n",
            "'Copy of driver_app.zip'\n",
            "'Copy of riders_app.zip'\n",
            "'CV Format Samples 4.gdoc'\n",
            "'CV Format Samples 4.pdf'\n",
            " daily-bike-share.csv\n",
            " Dip_quiz3.html\n",
            "'Document from Jamal Durrani'\n",
            "'Document from Jamal Durrani (1)'\n",
            "'Document from Jamal Durrani (2)'\n",
            "'Document from Jamal Durrani (3)'\n",
            "'Document from Jamal Durrani (4)'\n",
            "'Document from Jamal Durrani (5)'\n",
            "'Document from Jamal Durrani (6)'\n",
            "'Document from Jamal Durrani (7)'\n",
            "'Document from Jamal Durrani (8)'\n",
            " E-commerce-app-using-flutter-and-firebase.rar\n",
            "'HCI Assignment 1 (1).docx'\n",
            "'HCI Assignment 1.docx'\n",
            "'hci classwork 1780181.docx'\n",
            "\"I am sharing 'New Microsoft Word Document' with you\"\n",
            "\"I am sharing 'Q2' with you\"\n",
            "'jamal cv (1).gdoc'\n",
            "'jamal cv (1).pdf'\n",
            " MAMP\n",
            "'Mateen Sajid 1780155 Lab 12 (1).gdoc'\n",
            "'Mateen Sajid 1780155 Lab 12.gdoc'\n",
            "'Meet Recordings'\n",
            "'Mid-Review Presentation Template (1)1 (1).gslides'\n",
            "'ML 1 Assignment.gdoc'\n",
            "'ML2 Assignment.gdoc'\n",
            "'New Doc 06-17-2020 18.13.27_1 (1).jpg'\n",
            "'New Doc 06-17-2020 18.13.27_1.jpg'\n",
            "'New Doc 06-17-2020 18.13.27_2 (1).jpg'\n",
            "'New Doc 06-17-2020 18.13.27_2.jpg'\n",
            "'Popcorn Time.apk'\n",
            "'Popcorn Time.zip'\n",
            " Project4\n",
            " PrologIntelligentTutoringSystems-master.zip\n",
            "'reviver_app (1).rar'\n",
            " reviver_app.rar\n",
            "'reviver_app till 29.rar'\n",
            "'Reviver  Final-Review PPT.gslides'\n",
            "'task 1 lab 5  (1).docx'\n",
            "'task1 lab5  (1).vpp'\n",
            "'task 1 lab 5  (2).docx'\n",
            "'task 1 lab 5 .docx'\n",
            "'task1 lab5 .vpp'\n",
            " test\n",
            " test1.zip\n",
            " train\n",
            " train1.zip\n",
            " Untitled\n",
            "'zunnorain-shah-operating-system-assignment-1 (1).docx'\n",
            " zunnorain-shah-operating-system-assignment-1.docx\n",
            "'Zunnorain Shah Operating System Assignment 1.docx'\n"
          ]
        }
      ],
      "source": [
        "from google.colab import drive\n",
        "\n",
        "drive.mount('/content/drive')\n",
        "!ls \"/content/drive/My Drive\""
      ]
    },
    {
      "cell_type": "code",
      "source": [
        ""
      ],
      "metadata": {
        "id": "6xTdWelDix8L"
      },
      "execution_count": null,
      "outputs": []
    },
    {
      "cell_type": "code",
      "source": [
        "from keras.models import Sequential\n",
        "from keras.layers import Dense\n",
        "from keras.layers import Dropout\n",
        "from keras.layers import Flatten\n",
        "from keras.layers.convolutional import Conv2D\n",
        "from keras.layers.convolutional import MaxPooling2D\n",
        "from keras.utils import np_utils\n",
        "from keras.preprocessing.image import ImageDataGenerator"
      ],
      "metadata": {
        "id": "f2wYh8Q3x9xe"
      },
      "execution_count": 15,
      "outputs": []
    },
    {
      "cell_type": "code",
      "source": [
        "img_height, img_width = (28,28)\n",
        "\n",
        "train_data_dir = r\"/content/drive/My Drive/train\"\n",
        "test_data_dir = r\"/content/drive/My Drive/test\""
      ],
      "metadata": {
        "id": "WsSei0xyiV3J"
      },
      "execution_count": 2,
      "outputs": []
    },
    {
      "cell_type": "code",
      "source": [
        "# create a data generator\n",
        "datagen = ImageDataGenerator()"
      ],
      "metadata": {
        "id": "zuu4DPYxioxa"
      },
      "execution_count": 5,
      "outputs": []
    },
    {
      "cell_type": "code",
      "source": [
        "train_generator = datagen.flow_from_directory(\n",
        "    train_data_dir,\n",
        "    target_size=(28, 28),\n",
        "    color_mode=\"grayscale\",\n",
        "    batch_size=4000,\n",
        "    class_mode=\"categorical\",\n",
        "    shuffle=True,\n",
        "    seed=42\n",
        ")"
      ],
      "metadata": {
        "colab": {
          "base_uri": "https://localhost:8080/"
        },
        "id": "szfH9tc6irde",
        "outputId": "55cf835b-2bf8-40e2-a0cd-62c207eef269"
      },
      "execution_count": 6,
      "outputs": [
        {
          "output_type": "stream",
          "name": "stdout",
          "text": [
            "Found 14000 images belonging to 10 classes.\n"
          ]
        }
      ]
    },
    {
      "cell_type": "code",
      "source": [
        "test_generator = datagen.flow_from_directory(\n",
        "    test_data_dir,\n",
        "    target_size=(28, 28),\n",
        "    color_mode=\"grayscale\",\n",
        "    batch_size=2000,\n",
        "    class_mode=\"categorical\",\n",
        "    shuffle=True,\n",
        "    seed=42\n",
        ")"
      ],
      "metadata": {
        "colab": {
          "base_uri": "https://localhost:8080/"
        },
        "id": "X4Z52IwHi4sz",
        "outputId": "c2bfad8b-8726-4694-8004-c4e6f652886e"
      },
      "execution_count": 7,
      "outputs": [
        {
          "output_type": "stream",
          "name": "stdout",
          "text": [
            "Found 21780 images belonging to 10 classes.\n"
          ]
        }
      ]
    },
    {
      "cell_type": "code",
      "source": [
        "X_test,y_test = test_generator.next()\n",
        "X_train, y_train = train_generator.next()"
      ],
      "metadata": {
        "id": "HVGUCV6_jBnx"
      },
      "execution_count": 92,
      "outputs": []
    },
    {
      "cell_type": "code",
      "source": [
        "y_train.shape"
      ],
      "metadata": {
        "colab": {
          "base_uri": "https://localhost:8080/"
        },
        "id": "gFSGwLx_jKPl",
        "outputId": "0b0139c7-c66f-4a26-8d0b-ea0b724ca7c3"
      },
      "execution_count": 94,
      "outputs": [
        {
          "output_type": "execute_result",
          "data": {
            "text/plain": [
              "(1000, 10)"
            ]
          },
          "metadata": {},
          "execution_count": 94
        }
      ]
    },
    {
      "cell_type": "code",
      "source": [
        "# flatten 28*28 images to a 784 vector for each image\n",
        "X_train = X_train.reshape(X_train.shape[0], 28, 28, 1).astype('float32')\n",
        "X_test = X_test.reshape(X_test.shape[0], 28, 28, 1).astype('float32')"
      ],
      "metadata": {
        "id": "HQRRzUPXw9Hf"
      },
      "execution_count": 93,
      "outputs": []
    },
    {
      "cell_type": "code",
      "source": [
        "\n",
        "# normalize inputs from 0-255 to 0-1\n",
        "X_train = X_train / 255\n",
        "X_test = X_test / 255\n",
        "# one hot encode outputs\n",
        "num_classes = y_test.shape[1]"
      ],
      "metadata": {
        "id": "01KWCPDtnNzY"
      },
      "execution_count": 95,
      "outputs": []
    },
    {
      "cell_type": "code",
      "source": [
        "num_classes = y_test.shape[1]\n",
        "y_train.shape"
      ],
      "metadata": {
        "colab": {
          "base_uri": "https://localhost:8080/"
        },
        "id": "w1YVOhtvnRKe",
        "outputId": "2502b191-5ac3-4e43-9e78-e5e9b98ad39c"
      },
      "execution_count": 96,
      "outputs": [
        {
          "output_type": "execute_result",
          "data": {
            "text/plain": [
              "(1000, 10)"
            ]
          },
          "metadata": {},
          "execution_count": 96
        }
      ]
    },
    {
      "cell_type": "code",
      "source": [
        "\n",
        "# define the larger model\n",
        "def larger_model():\n",
        "\t# create model\n",
        "\tmodel = Sequential()\n",
        "\tmodel.add(Conv2D(30, (5, 5), input_shape=(28, 28, 1), activation='relu'))\n",
        "\tmodel.add(MaxPooling2D(pool_size=(2, 2)))\n",
        "\tmodel.add(Conv2D(15, (3, 3), activation='relu'))\n",
        "\tmodel.add(MaxPooling2D(pool_size=(2, 2)))\n",
        "\tmodel.add(Dropout(0.2))\n",
        "\tmodel.add(Flatten())\n",
        "\tmodel.add(Dense(128, activation='relu'))\n",
        "\tmodel.add(Dense(50, activation='relu'))\n",
        "\tmodel.add(Dense(num_classes, activation='softmax'))\n",
        "\t# Compile model\n",
        "\tmodel.compile(loss='categorical_crossentropy', optimizer='adam', metrics=['accuracy'])\n",
        "\treturn model"
      ],
      "metadata": {
        "id": "flKIJvNBnT2m"
      },
      "execution_count": 97,
      "outputs": []
    },
    {
      "cell_type": "code",
      "source": [
        "# build the model\n",
        "model = larger_model()\n",
        "# Fit the model\n",
        "model.fit(X_train, y_train, validation_data=(X_test, y_test), epochs=90, batch_size=200)\n",
        "# Final evaluation of the model\n",
        "scores = model.evaluate(X_test, y_test, verbose=0)\n",
        "print(\"Large CNN Error: %.2f%%\" % (100-scores[1]*100))"
      ],
      "metadata": {
        "colab": {
          "base_uri": "https://localhost:8080/"
        },
        "id": "kPpIdPlJoYIy",
        "outputId": "6ad4304b-3d76-4453-8c45-fe3d8fd5d57f"
      },
      "execution_count": 99,
      "outputs": [
        {
          "output_type": "stream",
          "name": "stdout",
          "text": [
            "Epoch 1/90\n",
            "5/5 [==============================] - 2s 245ms/step - loss: 2.2880 - accuracy: 0.1410 - val_loss: 2.2734 - val_accuracy: 0.2230\n",
            "Epoch 2/90\n",
            "5/5 [==============================] - 1s 198ms/step - loss: 2.2446 - accuracy: 0.2560 - val_loss: 2.2127 - val_accuracy: 0.2595\n",
            "Epoch 3/90\n",
            "5/5 [==============================] - 1s 203ms/step - loss: 2.1547 - accuracy: 0.3410 - val_loss: 2.0979 - val_accuracy: 0.3010\n",
            "Epoch 4/90\n",
            "5/5 [==============================] - 1s 194ms/step - loss: 2.0078 - accuracy: 0.3550 - val_loss: 1.9082 - val_accuracy: 0.3865\n",
            "Epoch 5/90\n",
            "5/5 [==============================] - 1s 201ms/step - loss: 1.8054 - accuracy: 0.4400 - val_loss: 1.6848 - val_accuracy: 0.4705\n",
            "Epoch 6/90\n",
            "5/5 [==============================] - 1s 196ms/step - loss: 1.5646 - accuracy: 0.5090 - val_loss: 1.4315 - val_accuracy: 0.5675\n",
            "Epoch 7/90\n",
            "5/5 [==============================] - 1s 195ms/step - loss: 1.3213 - accuracy: 0.6040 - val_loss: 1.2055 - val_accuracy: 0.6180\n",
            "Epoch 8/90\n",
            "5/5 [==============================] - 1s 196ms/step - loss: 1.1257 - accuracy: 0.6430 - val_loss: 1.0275 - val_accuracy: 0.6845\n",
            "Epoch 9/90\n",
            "5/5 [==============================] - 1s 198ms/step - loss: 0.9548 - accuracy: 0.6950 - val_loss: 0.8955 - val_accuracy: 0.7085\n",
            "Epoch 10/90\n",
            "5/5 [==============================] - 1s 201ms/step - loss: 0.8195 - accuracy: 0.7400 - val_loss: 0.7885 - val_accuracy: 0.7425\n",
            "Epoch 11/90\n",
            "5/5 [==============================] - 1s 201ms/step - loss: 0.7170 - accuracy: 0.7690 - val_loss: 0.7127 - val_accuracy: 0.7675\n",
            "Epoch 12/90\n",
            "5/5 [==============================] - 1s 201ms/step - loss: 0.6674 - accuracy: 0.7760 - val_loss: 0.6634 - val_accuracy: 0.7870\n",
            "Epoch 13/90\n",
            "5/5 [==============================] - 1s 198ms/step - loss: 0.6153 - accuracy: 0.7880 - val_loss: 0.6251 - val_accuracy: 0.7990\n",
            "Epoch 14/90\n",
            "5/5 [==============================] - 1s 194ms/step - loss: 0.5567 - accuracy: 0.8080 - val_loss: 0.6046 - val_accuracy: 0.8070\n",
            "Epoch 15/90\n",
            "5/5 [==============================] - 1s 197ms/step - loss: 0.5139 - accuracy: 0.8340 - val_loss: 0.5898 - val_accuracy: 0.8140\n",
            "Epoch 16/90\n",
            "5/5 [==============================] - 1s 198ms/step - loss: 0.5025 - accuracy: 0.8450 - val_loss: 0.5690 - val_accuracy: 0.8065\n",
            "Epoch 17/90\n",
            "5/5 [==============================] - 1s 196ms/step - loss: 0.4561 - accuracy: 0.8520 - val_loss: 0.5567 - val_accuracy: 0.8290\n",
            "Epoch 18/90\n",
            "5/5 [==============================] - 1s 199ms/step - loss: 0.4591 - accuracy: 0.8530 - val_loss: 0.5548 - val_accuracy: 0.8140\n",
            "Epoch 19/90\n",
            "5/5 [==============================] - 1s 198ms/step - loss: 0.4370 - accuracy: 0.8450 - val_loss: 0.5143 - val_accuracy: 0.8400\n",
            "Epoch 20/90\n",
            "5/5 [==============================] - 1s 199ms/step - loss: 0.3982 - accuracy: 0.8760 - val_loss: 0.5062 - val_accuracy: 0.8410\n",
            "Epoch 21/90\n",
            "5/5 [==============================] - 1s 193ms/step - loss: 0.3847 - accuracy: 0.8700 - val_loss: 0.4891 - val_accuracy: 0.8400\n",
            "Epoch 22/90\n",
            "5/5 [==============================] - 1s 196ms/step - loss: 0.3545 - accuracy: 0.8960 - val_loss: 0.4698 - val_accuracy: 0.8500\n",
            "Epoch 23/90\n",
            "5/5 [==============================] - 1s 199ms/step - loss: 0.3268 - accuracy: 0.9000 - val_loss: 0.4533 - val_accuracy: 0.8595\n",
            "Epoch 24/90\n",
            "5/5 [==============================] - 1s 201ms/step - loss: 0.3179 - accuracy: 0.9080 - val_loss: 0.4570 - val_accuracy: 0.8535\n",
            "Epoch 25/90\n",
            "5/5 [==============================] - 1s 197ms/step - loss: 0.3093 - accuracy: 0.9030 - val_loss: 0.4400 - val_accuracy: 0.8635\n",
            "Epoch 26/90\n",
            "5/5 [==============================] - 1s 197ms/step - loss: 0.2857 - accuracy: 0.9100 - val_loss: 0.4348 - val_accuracy: 0.8630\n",
            "Epoch 27/90\n",
            "5/5 [==============================] - 1s 196ms/step - loss: 0.2749 - accuracy: 0.9190 - val_loss: 0.4238 - val_accuracy: 0.8650\n",
            "Epoch 28/90\n",
            "5/5 [==============================] - 1s 199ms/step - loss: 0.2576 - accuracy: 0.9140 - val_loss: 0.4163 - val_accuracy: 0.8680\n",
            "Epoch 29/90\n",
            "5/5 [==============================] - 1s 204ms/step - loss: 0.2612 - accuracy: 0.9160 - val_loss: 0.4112 - val_accuracy: 0.8695\n",
            "Epoch 30/90\n",
            "5/5 [==============================] - 1s 194ms/step - loss: 0.2568 - accuracy: 0.9260 - val_loss: 0.4121 - val_accuracy: 0.8690\n",
            "Epoch 31/90\n",
            "5/5 [==============================] - 1s 193ms/step - loss: 0.2450 - accuracy: 0.9260 - val_loss: 0.4011 - val_accuracy: 0.8740\n",
            "Epoch 32/90\n",
            "5/5 [==============================] - 1s 199ms/step - loss: 0.2382 - accuracy: 0.9240 - val_loss: 0.3928 - val_accuracy: 0.8795\n",
            "Epoch 33/90\n",
            "5/5 [==============================] - 1s 202ms/step - loss: 0.2067 - accuracy: 0.9390 - val_loss: 0.3911 - val_accuracy: 0.8845\n",
            "Epoch 34/90\n",
            "5/5 [==============================] - 1s 196ms/step - loss: 0.2152 - accuracy: 0.9320 - val_loss: 0.3864 - val_accuracy: 0.8765\n",
            "Epoch 35/90\n",
            "5/5 [==============================] - 1s 194ms/step - loss: 0.1981 - accuracy: 0.9470 - val_loss: 0.3825 - val_accuracy: 0.8820\n",
            "Epoch 36/90\n",
            "5/5 [==============================] - 1s 199ms/step - loss: 0.1960 - accuracy: 0.9340 - val_loss: 0.3688 - val_accuracy: 0.8860\n",
            "Epoch 37/90\n",
            "5/5 [==============================] - 1s 198ms/step - loss: 0.2000 - accuracy: 0.9410 - val_loss: 0.3726 - val_accuracy: 0.8885\n",
            "Epoch 38/90\n",
            "5/5 [==============================] - 1s 196ms/step - loss: 0.1846 - accuracy: 0.9460 - val_loss: 0.3685 - val_accuracy: 0.8885\n",
            "Epoch 39/90\n",
            "5/5 [==============================] - 1s 193ms/step - loss: 0.1734 - accuracy: 0.9520 - val_loss: 0.3737 - val_accuracy: 0.8880\n",
            "Epoch 40/90\n",
            "5/5 [==============================] - 1s 197ms/step - loss: 0.1797 - accuracy: 0.9450 - val_loss: 0.3584 - val_accuracy: 0.8915\n",
            "Epoch 41/90\n",
            "5/5 [==============================] - 1s 197ms/step - loss: 0.1635 - accuracy: 0.9530 - val_loss: 0.3697 - val_accuracy: 0.8950\n",
            "Epoch 42/90\n",
            "5/5 [==============================] - 1s 201ms/step - loss: 0.1472 - accuracy: 0.9570 - val_loss: 0.3682 - val_accuracy: 0.8865\n",
            "Epoch 43/90\n",
            "5/5 [==============================] - 1s 198ms/step - loss: 0.1614 - accuracy: 0.9470 - val_loss: 0.3582 - val_accuracy: 0.8920\n",
            "Epoch 44/90\n",
            "5/5 [==============================] - 1s 204ms/step - loss: 0.1458 - accuracy: 0.9500 - val_loss: 0.3492 - val_accuracy: 0.8945\n",
            "Epoch 45/90\n",
            "5/5 [==============================] - 1s 197ms/step - loss: 0.1363 - accuracy: 0.9590 - val_loss: 0.3645 - val_accuracy: 0.8915\n",
            "Epoch 46/90\n",
            "5/5 [==============================] - 1s 199ms/step - loss: 0.1286 - accuracy: 0.9560 - val_loss: 0.3503 - val_accuracy: 0.8900\n",
            "Epoch 47/90\n",
            "5/5 [==============================] - 1s 200ms/step - loss: 0.1282 - accuracy: 0.9570 - val_loss: 0.3597 - val_accuracy: 0.8940\n",
            "Epoch 48/90\n",
            "5/5 [==============================] - 1s 203ms/step - loss: 0.1190 - accuracy: 0.9660 - val_loss: 0.3537 - val_accuracy: 0.8940\n",
            "Epoch 49/90\n",
            "5/5 [==============================] - 1s 200ms/step - loss: 0.1382 - accuracy: 0.9610 - val_loss: 0.3631 - val_accuracy: 0.8900\n",
            "Epoch 50/90\n",
            "5/5 [==============================] - 1s 200ms/step - loss: 0.1395 - accuracy: 0.9620 - val_loss: 0.3500 - val_accuracy: 0.9015\n",
            "Epoch 51/90\n",
            "5/5 [==============================] - 1s 198ms/step - loss: 0.1234 - accuracy: 0.9630 - val_loss: 0.3508 - val_accuracy: 0.8990\n",
            "Epoch 52/90\n",
            "5/5 [==============================] - 1s 198ms/step - loss: 0.1093 - accuracy: 0.9680 - val_loss: 0.3519 - val_accuracy: 0.8905\n",
            "Epoch 53/90\n",
            "5/5 [==============================] - 1s 200ms/step - loss: 0.1059 - accuracy: 0.9660 - val_loss: 0.3362 - val_accuracy: 0.9020\n",
            "Epoch 54/90\n",
            "5/5 [==============================] - 1s 200ms/step - loss: 0.1074 - accuracy: 0.9650 - val_loss: 0.3486 - val_accuracy: 0.8985\n",
            "Epoch 55/90\n",
            "5/5 [==============================] - 1s 196ms/step - loss: 0.1059 - accuracy: 0.9650 - val_loss: 0.3392 - val_accuracy: 0.9035\n",
            "Epoch 56/90\n",
            "5/5 [==============================] - 1s 199ms/step - loss: 0.0926 - accuracy: 0.9710 - val_loss: 0.3401 - val_accuracy: 0.8990\n",
            "Epoch 57/90\n",
            "5/5 [==============================] - 1s 193ms/step - loss: 0.0954 - accuracy: 0.9680 - val_loss: 0.3404 - val_accuracy: 0.8985\n",
            "Epoch 58/90\n",
            "5/5 [==============================] - 1s 195ms/step - loss: 0.0953 - accuracy: 0.9670 - val_loss: 0.3455 - val_accuracy: 0.8995\n",
            "Epoch 59/90\n",
            "5/5 [==============================] - 1s 200ms/step - loss: 0.0819 - accuracy: 0.9750 - val_loss: 0.3424 - val_accuracy: 0.9040\n",
            "Epoch 60/90\n",
            "5/5 [==============================] - 1s 198ms/step - loss: 0.0830 - accuracy: 0.9750 - val_loss: 0.3355 - val_accuracy: 0.9065\n",
            "Epoch 61/90\n",
            "5/5 [==============================] - 1s 198ms/step - loss: 0.0903 - accuracy: 0.9720 - val_loss: 0.3519 - val_accuracy: 0.9005\n",
            "Epoch 62/90\n",
            "5/5 [==============================] - 1s 200ms/step - loss: 0.0694 - accuracy: 0.9780 - val_loss: 0.3435 - val_accuracy: 0.9020\n",
            "Epoch 63/90\n",
            "5/5 [==============================] - 1s 198ms/step - loss: 0.0752 - accuracy: 0.9770 - val_loss: 0.3415 - val_accuracy: 0.9040\n",
            "Epoch 64/90\n",
            "5/5 [==============================] - 1s 205ms/step - loss: 0.0695 - accuracy: 0.9800 - val_loss: 0.3466 - val_accuracy: 0.9035\n",
            "Epoch 65/90\n",
            "5/5 [==============================] - 1s 197ms/step - loss: 0.0711 - accuracy: 0.9770 - val_loss: 0.3468 - val_accuracy: 0.9020\n",
            "Epoch 66/90\n",
            "5/5 [==============================] - 1s 198ms/step - loss: 0.0615 - accuracy: 0.9860 - val_loss: 0.3360 - val_accuracy: 0.9045\n",
            "Epoch 67/90\n",
            "5/5 [==============================] - 1s 200ms/step - loss: 0.0572 - accuracy: 0.9870 - val_loss: 0.3291 - val_accuracy: 0.9085\n",
            "Epoch 68/90\n",
            "5/5 [==============================] - 1s 197ms/step - loss: 0.0630 - accuracy: 0.9820 - val_loss: 0.3712 - val_accuracy: 0.9005\n",
            "Epoch 69/90\n",
            "5/5 [==============================] - 1s 204ms/step - loss: 0.0660 - accuracy: 0.9800 - val_loss: 0.3345 - val_accuracy: 0.9040\n",
            "Epoch 70/90\n",
            "5/5 [==============================] - 1s 201ms/step - loss: 0.0636 - accuracy: 0.9810 - val_loss: 0.3416 - val_accuracy: 0.9055\n",
            "Epoch 71/90\n",
            "5/5 [==============================] - 1s 206ms/step - loss: 0.0491 - accuracy: 0.9890 - val_loss: 0.3493 - val_accuracy: 0.9065\n",
            "Epoch 72/90\n",
            "5/5 [==============================] - 1s 203ms/step - loss: 0.0606 - accuracy: 0.9770 - val_loss: 0.3386 - val_accuracy: 0.9090\n",
            "Epoch 73/90\n",
            "5/5 [==============================] - 1s 200ms/step - loss: 0.0554 - accuracy: 0.9860 - val_loss: 0.3558 - val_accuracy: 0.9030\n",
            "Epoch 74/90\n",
            "5/5 [==============================] - 1s 203ms/step - loss: 0.0562 - accuracy: 0.9810 - val_loss: 0.3524 - val_accuracy: 0.9045\n",
            "Epoch 75/90\n",
            "5/5 [==============================] - 1s 200ms/step - loss: 0.0501 - accuracy: 0.9830 - val_loss: 0.3472 - val_accuracy: 0.9065\n",
            "Epoch 76/90\n",
            "5/5 [==============================] - 1s 200ms/step - loss: 0.0585 - accuracy: 0.9820 - val_loss: 0.3553 - val_accuracy: 0.9080\n",
            "Epoch 77/90\n",
            "5/5 [==============================] - 1s 210ms/step - loss: 0.0562 - accuracy: 0.9860 - val_loss: 0.3474 - val_accuracy: 0.9090\n",
            "Epoch 78/90\n",
            "5/5 [==============================] - 1s 213ms/step - loss: 0.0581 - accuracy: 0.9870 - val_loss: 0.3407 - val_accuracy: 0.9110\n",
            "Epoch 79/90\n",
            "5/5 [==============================] - 1s 210ms/step - loss: 0.0594 - accuracy: 0.9800 - val_loss: 0.3513 - val_accuracy: 0.9085\n",
            "Epoch 80/90\n",
            "5/5 [==============================] - 1s 203ms/step - loss: 0.0397 - accuracy: 0.9890 - val_loss: 0.3431 - val_accuracy: 0.9110\n",
            "Epoch 81/90\n",
            "5/5 [==============================] - 1s 208ms/step - loss: 0.0462 - accuracy: 0.9900 - val_loss: 0.3534 - val_accuracy: 0.9100\n",
            "Epoch 82/90\n",
            "5/5 [==============================] - 1s 211ms/step - loss: 0.0378 - accuracy: 0.9940 - val_loss: 0.3671 - val_accuracy: 0.9080\n",
            "Epoch 83/90\n",
            "5/5 [==============================] - 1s 208ms/step - loss: 0.0527 - accuracy: 0.9840 - val_loss: 0.3641 - val_accuracy: 0.9090\n",
            "Epoch 84/90\n",
            "5/5 [==============================] - 1s 209ms/step - loss: 0.0363 - accuracy: 0.9910 - val_loss: 0.3451 - val_accuracy: 0.9180\n",
            "Epoch 85/90\n",
            "5/5 [==============================] - 1s 216ms/step - loss: 0.0438 - accuracy: 0.9880 - val_loss: 0.3551 - val_accuracy: 0.9105\n",
            "Epoch 86/90\n",
            "5/5 [==============================] - 1s 205ms/step - loss: 0.0488 - accuracy: 0.9810 - val_loss: 0.3588 - val_accuracy: 0.9105\n",
            "Epoch 87/90\n",
            "5/5 [==============================] - 1s 200ms/step - loss: 0.0399 - accuracy: 0.9910 - val_loss: 0.3481 - val_accuracy: 0.9080\n",
            "Epoch 88/90\n",
            "5/5 [==============================] - 1s 208ms/step - loss: 0.0382 - accuracy: 0.9920 - val_loss: 0.3529 - val_accuracy: 0.9165\n",
            "Epoch 89/90\n",
            "5/5 [==============================] - 1s 208ms/step - loss: 0.0510 - accuracy: 0.9820 - val_loss: 0.3645 - val_accuracy: 0.9090\n",
            "Epoch 90/90\n",
            "5/5 [==============================] - 1s 209ms/step - loss: 0.0326 - accuracy: 0.9910 - val_loss: 0.3495 - val_accuracy: 0.9085\n",
            "Large CNN Error: 9.15%\n"
          ]
        }
      ]
    },
    {
      "cell_type": "code",
      "source": [
        ""
      ],
      "metadata": {
        "id": "lkTu_vEuoaO5"
      },
      "execution_count": null,
      "outputs": []
    }
  ]
}